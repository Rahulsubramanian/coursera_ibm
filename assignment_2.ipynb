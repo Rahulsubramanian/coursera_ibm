{
 "cells": [
  {
   "cell_type": "code",
   "execution_count": null,
   "metadata": {},
   "outputs": [],
   "source": [
    "!rm -f rklib.py\n",
    "!wget https://raw.githubusercontent.com/IBM/coursera/master/rklib.py"
   ]
  },
  {
   "cell_type": "code",
   "execution_count": null,
   "metadata": {},
   "outputs": [],
   "source": [
    "from rklib import submit\n",
    "import json\n",
    "\n",
    "key = \"tlOUM_XREeerCBIEgYad1g\"\n",
    "part = \"HA0XG\"\n",
    "email =\"rashahul3@gmail.com\"\n",
    "token = \"UskRCgxYgA9kiD2Y\"\n",
    "\n",
    "submit(email, token, key, part, [part], json.dumps(23))"
   ]
  },
  {
   "cell_type": "code",
   "execution_count": 1,
   "metadata": {},
   "outputs": [
    {
     "name": "stderr",
     "output_type": "stream",
     "text": [
      "Using TensorFlow backend.\n"
     ]
    }
   ],
   "source": [
    "from keras.models import Sequential\n",
    "from keras.layers import Dense\n",
    "from keras.datasets import mnist\n",
    "from keras.optimizers import SGD\n",
    "from keras.utils import to_categorical\n",
    "from keras.layers import Dropout"
   ]
  },
  {
   "cell_type": "code",
   "execution_count": 2,
   "metadata": {},
   "outputs": [],
   "source": [
    "sgd=SGD(lr=0.1,decay=1e-6,momentum=0.9)"
   ]
  },
  {
   "cell_type": "code",
   "execution_count": 3,
   "metadata": {},
   "outputs": [],
   "source": [
    "num_c=10"
   ]
  },
  {
   "cell_type": "code",
   "execution_count": 4,
   "metadata": {},
   "outputs": [],
   "source": [
    "(X_train,y_train),(X_test,y_test)=mnist.load_data()"
   ]
  },
  {
   "cell_type": "code",
   "execution_count": 5,
   "metadata": {},
   "outputs": [
    {
     "data": {
      "text/plain": [
       "array([[0., 0., 0., ..., 0., 0., 0.],\n",
       "       [0., 0., 0., ..., 0., 0., 0.],\n",
       "       [0., 0., 0., ..., 0., 0., 0.],\n",
       "       ...,\n",
       "       [0., 0., 0., ..., 0., 0., 0.],\n",
       "       [0., 0., 0., ..., 0., 0., 0.],\n",
       "       [0., 0., 0., ..., 0., 0., 0.]], dtype=float32)"
      ]
     },
     "execution_count": 5,
     "metadata": {},
     "output_type": "execute_result"
    }
   ],
   "source": [
    "# preprocessing\n",
    "X_train=X_train.reshape(60000,784)\n",
    "X_test=X_test.reshape(10000,784)\n",
    "X_train=X_train.astype('float32')\n",
    "X_test=X_test.astype('float32')\n",
    "X_train/=255\n",
    "X_test/255"
   ]
  },
  {
   "cell_type": "code",
   "execution_count": 6,
   "metadata": {},
   "outputs": [],
   "source": [
    "y_train=to_categorical(y_train,num_c)\n",
    "y_test=to_categorical(y_test,num_c)"
   ]
  },
  {
   "cell_type": "code",
   "execution_count": 7,
   "metadata": {},
   "outputs": [
    {
     "name": "stdout",
     "output_type": "stream",
     "text": [
      "WARNING:tensorflow:From E:\\anaconda\\envs\\Tensorflow\\lib\\site-packages\\keras\\backend\\tensorflow_backend.py:74: The name tf.get_default_graph is deprecated. Please use tf.compat.v1.get_default_graph instead.\n",
      "\n",
      "WARNING:tensorflow:From E:\\anaconda\\envs\\Tensorflow\\lib\\site-packages\\keras\\backend\\tensorflow_backend.py:517: The name tf.placeholder is deprecated. Please use tf.compat.v1.placeholder instead.\n",
      "\n",
      "WARNING:tensorflow:From E:\\anaconda\\envs\\Tensorflow\\lib\\site-packages\\keras\\backend\\tensorflow_backend.py:4138: The name tf.random_uniform is deprecated. Please use tf.random.uniform instead.\n",
      "\n",
      "WARNING:tensorflow:From E:\\anaconda\\envs\\Tensorflow\\lib\\site-packages\\keras\\optimizers.py:790: The name tf.train.Optimizer is deprecated. Please use tf.compat.v1.train.Optimizer instead.\n",
      "\n",
      "WARNING:tensorflow:From E:\\anaconda\\envs\\Tensorflow\\lib\\site-packages\\keras\\backend\\tensorflow_backend.py:986: The name tf.assign_add is deprecated. Please use tf.compat.v1.assign_add instead.\n",
      "\n",
      "WARNING:tensorflow:From E:\\anaconda\\envs\\Tensorflow\\lib\\site-packages\\keras\\backend\\tensorflow_backend.py:973: The name tf.assign is deprecated. Please use tf.compat.v1.assign instead.\n",
      "\n",
      "WARNING:tensorflow:From E:\\anaconda\\envs\\Tensorflow\\lib\\site-packages\\keras\\backend\\tensorflow_backend.py:2741: The name tf.Session is deprecated. Please use tf.compat.v1.Session instead.\n",
      "\n",
      "Train on 60000 samples, validate on 10000 samples\n",
      "Epoch 1/10\n",
      "WARNING:tensorflow:From E:\\anaconda\\envs\\Tensorflow\\lib\\site-packages\\keras\\backend\\tensorflow_backend.py:174: The name tf.get_default_session is deprecated. Please use tf.compat.v1.get_default_session instead.\n",
      "\n",
      "WARNING:tensorflow:From E:\\anaconda\\envs\\Tensorflow\\lib\\site-packages\\keras\\backend\\tensorflow_backend.py:181: The name tf.ConfigProto is deprecated. Please use tf.compat.v1.ConfigProto instead.\n",
      "\n",
      "WARNING:tensorflow:From E:\\anaconda\\envs\\Tensorflow\\lib\\site-packages\\keras\\backend\\tensorflow_backend.py:190: The name tf.global_variables is deprecated. Please use tf.compat.v1.global_variables instead.\n",
      "\n",
      "WARNING:tensorflow:From E:\\anaconda\\envs\\Tensorflow\\lib\\site-packages\\keras\\backend\\tensorflow_backend.py:199: The name tf.is_variable_initialized is deprecated. Please use tf.compat.v1.is_variable_initialized instead.\n",
      "\n",
      "WARNING:tensorflow:From E:\\anaconda\\envs\\Tensorflow\\lib\\site-packages\\keras\\backend\\tensorflow_backend.py:206: The name tf.variables_initializer is deprecated. Please use tf.compat.v1.variables_initializer instead.\n",
      "\n",
      "60000/60000 [==============================] - 12s 200us/step - loss: 0.0906 - acc: 0.2135 - val_loss: 0.0850 - val_acc: 0.2849\n",
      "Epoch 2/10\n",
      "60000/60000 [==============================] - 11s 179us/step - loss: 0.0880 - acc: 0.2531 - val_loss: 0.0783 - val_acc: 0.3706\n",
      "Epoch 3/10\n",
      "60000/60000 [==============================] - 13s 224us/step - loss: 0.0859 - acc: 0.2636 - val_loss: 0.0725 - val_acc: 0.4245\n",
      "Epoch 4/10\n",
      "60000/60000 [==============================] - 14s 227us/step - loss: 0.0838 - acc: 0.2930 - val_loss: 0.0681 - val_acc: 0.4757\n",
      "Epoch 5/10\n",
      "60000/60000 [==============================] - 14s 236us/step - loss: 0.0816 - acc: 0.3344 - val_loss: 0.0647 - val_acc: 0.5119\n",
      "Epoch 6/10\n",
      "60000/60000 [==============================] - 14s 225us/step - loss: 0.0794 - acc: 0.3847 - val_loss: 0.0615 - val_acc: 0.5487\n",
      "Epoch 7/10\n",
      "60000/60000 [==============================] - 13s 223us/step - loss: 0.0771 - acc: 0.4410 - val_loss: 0.0584 - val_acc: 0.5803\n",
      "Epoch 8/10\n",
      "60000/60000 [==============================] - 14s 232us/step - loss: 0.0748 - acc: 0.4932 - val_loss: 0.0547 - val_acc: 0.6143\n",
      "Epoch 9/10\n",
      "60000/60000 [==============================] - 13s 220us/step - loss: 0.0724 - acc: 0.5410 - val_loss: 0.0513 - val_acc: 0.6444\n",
      "Epoch 10/10\n",
      "60000/60000 [==============================] - 13s 214us/step - loss: 0.0700 - acc: 0.5823 - val_loss: 0.0483 - val_acc: 0.6707\n"
     ]
    },
    {
     "data": {
      "text/plain": [
       "<keras.callbacks.History at 0x20e0207f748>"
      ]
     },
     "execution_count": 7,
     "metadata": {},
     "output_type": "execute_result"
    }
   ],
   "source": [
    "from keras.losses import mean_squared_error\n",
    "from keras.optimizers import SGD\n",
    "\n",
    "model=Sequential()\n",
    "model.add(Dense(256,activation='sigmoid',input_shape=(784,)))\n",
    "model.add(Dense(10,activation='softmax'))\n",
    "model.compile(loss='mean_squared_error',optimizer='sgd',metrics=['accuracy'])\n",
    "model.fit(X_train,y_train,batch_size=32,epochs=10,validation_data=(X_test,y_test))"
   ]
  },
  {
   "cell_type": "code",
   "execution_count": 8,
   "metadata": {},
   "outputs": [
    {
     "name": "stdout",
     "output_type": "stream",
     "text": [
      "10000/10000 [==============================] - 1s 88us/step\n",
      "loss: 4.825626574158669\n",
      "accuracy: 67.07\n"
     ]
    }
   ],
   "source": [
    "score=model.evaluate(X_test,y_test,batch_size=32)\n",
    "print('loss:',score[0]*100)\n",
    "print('accuracy:',score[1]*100)"
   ]
  },
  {
   "cell_type": "code",
   "execution_count": 9,
   "metadata": {},
   "outputs": [],
   "source": [
    "model1=Sequential()"
   ]
  },
  {
   "cell_type": "code",
   "execution_count": 10,
   "metadata": {},
   "outputs": [
    {
     "name": "stdout",
     "output_type": "stream",
     "text": [
      "WARNING:tensorflow:From E:\\anaconda\\envs\\Tensorflow\\lib\\site-packages\\keras\\backend\\tensorflow_backend.py:133: The name tf.placeholder_with_default is deprecated. Please use tf.compat.v1.placeholder_with_default instead.\n",
      "\n",
      "WARNING:tensorflow:From E:\\anaconda\\envs\\Tensorflow\\lib\\site-packages\\keras\\backend\\tensorflow_backend.py:3445: calling dropout (from tensorflow.python.ops.nn_ops) with keep_prob is deprecated and will be removed in a future version.\n",
      "Instructions for updating:\n",
      "Please use `rate` instead of `keep_prob`. Rate should be set to `rate = 1 - keep_prob`.\n"
     ]
    }
   ],
   "source": [
    "model1.add(Dense(512,activation='relu',input_shape=(784,)))\n",
    "model1.add(Dropout(0.2))\n",
    "model1.add(Dense(512,activation='relu'))\n",
    "model1.add(Dropout(0.2))\n",
    "model1.add(Dense(num_c,activation='relu'))"
   ]
  },
  {
   "cell_type": "code",
   "execution_count": 11,
   "metadata": {},
   "outputs": [
    {
     "name": "stdout",
     "output_type": "stream",
     "text": [
      "WARNING:tensorflow:From E:\\anaconda\\envs\\Tensorflow\\lib\\site-packages\\keras\\backend\\tensorflow_backend.py:3295: The name tf.log is deprecated. Please use tf.math.log instead.\n",
      "\n"
     ]
    }
   ],
   "source": [
    "model1.compile(loss='categorical_crossentropy',optimizer='sgd',metrics=['accuracy'])"
   ]
  },
  {
   "cell_type": "code",
   "execution_count": 12,
   "metadata": {},
   "outputs": [
    {
     "name": "stdout",
     "output_type": "stream",
     "text": [
      "WARNING:tensorflow:From E:\\anaconda\\envs\\Tensorflow\\lib\\site-packages\\tensorflow_core\\python\\ops\\math_grad.py:1424: where (from tensorflow.python.ops.array_ops) is deprecated and will be removed in a future version.\n",
      "Instructions for updating:\n",
      "Use tf.where in 2.0, which has the same broadcast rule as np.where\n",
      "Train on 60000 samples, validate on 10000 samples\n",
      "Epoch 1/10\n",
      "60000/60000 [==============================] - 12s 195us/step - loss: nan - acc: 0.1369 - val_loss: nan - val_acc: 0.0980\n",
      "Epoch 2/10\n",
      "60000/60000 [==============================] - 9s 146us/step - loss: nan - acc: 0.0987 - val_loss: nan - val_acc: 0.0980\n",
      "Epoch 3/10\n",
      "60000/60000 [==============================] - 11s 188us/step - loss: nan - acc: 0.0987 - val_loss: nan - val_acc: 0.0980\n",
      "Epoch 4/10\n",
      "60000/60000 [==============================] - 11s 182us/step - loss: nan - acc: 0.0987 - val_loss: nan - val_acc: 0.0980\n",
      "Epoch 5/10\n",
      "60000/60000 [==============================] - 12s 205us/step - loss: nan - acc: 0.0987 - val_loss: nan - val_acc: 0.0980\n",
      "Epoch 6/10\n",
      "60000/60000 [==============================] - 12s 192us/step - loss: nan - acc: 0.0987 - val_loss: nan - val_acc: 0.0980\n",
      "Epoch 7/10\n",
      "60000/60000 [==============================] - 11s 178us/step - loss: nan - acc: 0.0987 - val_loss: nan - val_acc: 0.0980\n",
      "Epoch 8/10\n",
      "60000/60000 [==============================] - 11s 183us/step - loss: nan - acc: 0.0987 - val_loss: nan - val_acc: 0.0980\n",
      "Epoch 9/10\n",
      "60000/60000 [==============================] - 11s 177us/step - loss: nan - acc: 0.0987 - val_loss: nan - val_acc: 0.0980\n",
      "Epoch 10/10\n",
      "60000/60000 [==============================] - 12s 198us/step - loss: nan - acc: 0.0987 - val_loss: nan - val_acc: 0.0980\n"
     ]
    },
    {
     "data": {
      "text/plain": [
       "<keras.callbacks.History at 0x20e1eb09f88>"
      ]
     },
     "execution_count": 12,
     "metadata": {},
     "output_type": "execute_result"
    }
   ],
   "source": [
    "model1.fit(X_train,y_train,batch_size=132,epochs=10,validation_data=(X_test,y_test))"
   ]
  },
  {
   "cell_type": "code",
   "execution_count": 13,
   "metadata": {},
   "outputs": [],
   "source": [
    "score1=model1.evaluate(X_test,y_test,verbose=0)"
   ]
  },
  {
   "cell_type": "code",
   "execution_count": 14,
   "metadata": {},
   "outputs": [
    {
     "name": "stdout",
     "output_type": "stream",
     "text": [
      "loss: nan\n",
      "accuracy: 9.8\n"
     ]
    }
   ],
   "source": [
    "print('loss:',score1[0]*100)\n",
    "print('accuracy:',score1[1]*100)"
   ]
  },
  {
   "cell_type": "code",
   "execution_count": 15,
   "metadata": {},
   "outputs": [],
   "source": [
    "from keras.models import load_model\n"
   ]
  },
  {
   "cell_type": "code",
   "execution_count": 16,
   "metadata": {},
   "outputs": [],
   "source": [
    "model.save('final_model.h5')\n",
    "model=load_model('final_model.h5')"
   ]
  },
  {
   "cell_type": "code",
   "execution_count": 18,
   "metadata": {},
   "outputs": [],
   "source": [
    "model1.save('final_model1.h5')\n",
    "model1=load_model('final_model1.h5')"
   ]
  },
  {
   "cell_type": "code",
   "execution_count": null,
   "metadata": {},
   "outputs": [],
   "source": []
  }
 ],
 "metadata": {
  "kernelspec": {
   "display_name": "Python 3",
   "language": "python",
   "name": "python3"
  },
  "language_info": {
   "codemirror_mode": {
    "name": "ipython",
    "version": 3
   },
   "file_extension": ".py",
   "mimetype": "text/x-python",
   "name": "python",
   "nbconvert_exporter": "python",
   "pygments_lexer": "ipython3",
   "version": "3.7.5"
  }
 },
 "nbformat": 4,
 "nbformat_minor": 2
}
